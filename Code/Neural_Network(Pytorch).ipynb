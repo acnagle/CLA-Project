{
 "cells": [
  {
   "cell_type": "markdown",
   "metadata": {},
   "source": [
    "# Neural Network for CLA Project"
   ]
  },
  {
   "cell_type": "markdown",
   "metadata": {},
   "source": [
    "### Import statements"
   ]
  },
  {
   "cell_type": "code",
   "execution_count": 1,
   "metadata": {},
   "outputs": [],
   "source": [
    "from sklearn import preprocessing\n",
    "from sklearn import model_selection\n",
    "import torch\n",
    "import torch.nn as nn\n",
    "import torch.nn.functional as F\n",
    "import torch.utils.data as utils\n",
    "from torch.autograd import Variable\n",
    "import numpy as np\n",
    "import matplotlib.pyplot as plt\n",
    "%matplotlib inline\n",
    "import errno\n",
    "import os\n",
    "import sys\n",
    "import Constants"
   ]
  },
  {
   "cell_type": "markdown",
   "metadata": {},
   "source": [
    "### Hyperparameters"
   ]
  },
  {
   "cell_type": "code",
   "execution_count": 2,
   "metadata": {},
   "outputs": [],
   "source": [
    "# data processing\n",
    "sample_bias = 0     # adjust the difference in the number of the two types of samples (no algae vs algae)\n",
    "test_size = 0.2\n",
    "batch_size = 100    # batch size for the DataLoaders\n",
    "\n",
    "# NN model\n",
    "num_features = 17\n",
    "input_size = num_features     # size of input layer\n",
    "multiplier = 6                # multiplied by num_features to determine the size of each hidden layer\n",
    "hidden_size = multiplier * input_size\n",
    "output_size = 1\n",
    "learning_rate = 0.001         # learning rate of optimizer\n",
    "num_epochs = 3                # number of epochs"
   ]
  },
  {
   "cell_type": "markdown",
   "metadata": {},
   "source": [
    "### Read in data"
   ]
  },
  {
   "cell_type": "code",
   "execution_count": 3,
   "metadata": {},
   "outputs": [],
   "source": [
    "np.set_printoptions(threshold=np.inf)  # prints a full matrix rather than an abbreviated matrix\n",
    "\n",
    "# define data and destination paths\n",
    "dest_path = \"/Users/Alliot/Documents/CLA-Project/Data/all-data-no-na/neural-network/\"\n",
    "data_path = \"/Users/Alliot/Documents/CLA-Project/Data/data-sets/\"\n",
    "data_set = \"data_2017_summer\"\n",
    "\n",
    "# if dest_path does not exist, create it\n",
    "if not os.path.exists(dest_path):\n",
    "    try:\n",
    "        os.makedirs(dest_path)\n",
    "    except OSError as e:\n",
    "        if e.errno != errno.EEXIST:\n",
    "            raise\n",
    "\n",
    "# load data sets\n",
    "X = np.load(data_path + data_set + \".npy\")\n",
    "y = np.load(data_path + data_set + \"_labels.npy\")\n",
    "\n",
    "# manipulate data set. labels are converted to -1, +1 for binary classification; samples are removed uniformly \n",
    "# from the data set so that the disproportionately large number of negative samples (no algae) does \n",
    "# not bias the model.\n",
    "\n",
    "num_alg = 0  # count the number of algae instances\n",
    "num_no_alg = 0  # count the number of no algae instances\n",
    "\n",
    "# Convert labels to binary: -1 for no algae and 1 for algae\n",
    "for i in range(0, len(y)):\n",
    "    if y[i] == 0:\n",
    "        num_no_alg += 1\n",
    "    if y[i] == 1 or y[i] == 2:\n",
    "        y[i] = 1\n",
    "        num_alg += 1\n",
    "\n",
    "# undersample (shrink) the data set by randomly removing occurences of no algae until the number of no algae samples \n",
    "# equals the number of algae samples minus the sample_bias\n",
    "idx = 0  # index for the data set\n",
    "while num_no_alg != (num_alg - sample_bias):\n",
    "    # circle through the data set until the difference of num_no_alg and num_alg equals\n",
    "    # the value specified by sample_bias\n",
    "    if idx == (len(y) - 1):\n",
    "        idx = 0\n",
    "        \n",
    "    if y[idx] == 0:\n",
    "        if np.random.rand() >= 0.5:  # remove this sample with some probability\n",
    "            y = np.delete(y, obj=idx)\n",
    "            X = np.delete(X, obj=idx, axis=Constants.ROWS)\n",
    "            num_no_alg -= 1\n",
    "        else:\n",
    "            idx += 1\n",
    "    else:\n",
    "        idx += 1"
   ]
  },
  {
   "cell_type": "markdown",
   "metadata": {},
   "source": [
    "### Process and split data set"
   ]
  },
  {
   "cell_type": "code",
   "execution_count": 19,
   "metadata": {},
   "outputs": [
    {
     "data": {
      "text/plain": [
       "<matplotlib.collections.PathCollection at 0x1a254adcc0>"
      ]
     },
     "execution_count": 19,
     "metadata": {},
     "output_type": "execute_result"
    },
    {
     "data": {
      "image/png": "[encoded data removed]",
      "text/plain": [
       "<Figure size 432x288 with 1 Axes>"
      ]
     },
     "metadata": {},
     "output_type": "display_data"
    }
   ],
   "source": [
    "# standardize data: remove the mean and variance in each sample\n",
    "\n",
    "# TEST DATA DELETE THIS\n",
    "num_test_samples = 47000\n",
    "# X = 100*np.random.rand(num_test_samples, num_features)\n",
    "# y = np.random.randint(2, size=num_test_samples);\n",
    "# X1 = np.random.randn(1000, num_features)\n",
    "# X2 = np.random.randn(1000, num_features) + 1.5\n",
    "# X = np.concatenate((X1, X2), axis=0)\n",
    "# y1 = np.zeros(shape=(1000, 1))\n",
    "# y2 = np.ones(shape=(1000, 1))\n",
    "# y = np.concatenate((y1, y2), axis=0)\n",
    "# plt.scatter(X1[:, 0], X1[:, 1], color='b')\n",
    "# plt.scatter(X2[:, 0], X2[:, 1], color='r')\n",
    "\n",
    "\n",
    "\n",
    "\n",
    "\n",
    "num_splits = 2   # do not change\n",
    "sss = model_selection.StratifiedShuffleSplit(n_splits=num_splits, test_size=test_size)\n",
    "\n",
    "idx, _ = sss.split(X, y);\n",
    "train_idx = idx[0]\n",
    "test_idx = idx[1]\n",
    "X_train, X_test = X[train_idx], X[test_idx]\n",
    "y_train, y_test = y[train_idx], y[test_idx]\n",
    "\n",
    "X_train = preprocessing.scale(X_train, axis=1, with_mean=False, with_std=True)  # NOTE: MEAN NOT REMOVED\n",
    "X_test = preprocessing.scale(X_test, axis=1, with_mean=False, with_std=True)\n",
    "\n",
    "# convert numpy arrays to pytorch tensors\n",
    "X_train, X_test = torch.from_numpy(X_train), torch.from_numpy(X_test)\n",
    "y_train, y_test = torch.from_numpy(y_train), torch.from_numpy(y_test)\n",
    "\n",
    "# convert pytorch tensors to pytorch TensorDataset\n",
    "train_set = utils.TensorDataset(X_train, y_train)\n",
    "test_set = utils.TensorDataset(X_test, y_test)\n",
    "\n",
    "# create DataLoaders\n",
    "train_loader = utils.DataLoader(train_set, batch_size=batch_size, shuffle=True)\n",
    "test_loader = utils.DataLoader(test_set, batch_size=batch_size, shuffle=True)\n",
    "\n",
    "\n",
    "\n",
    "# plt.scatter(X_train[:, 0], X_train[:, 1], color='b')\n",
    "plt.scatter(X_train[:, 0], X_train[:, 1], color='r')"
   ]
  },
  {
   "cell_type": "markdown",
   "metadata": {},
   "source": [
    "### Define neural network model"
   ]
  },
  {
   "cell_type": "code",
   "execution_count": 27,
   "metadata": {},
   "outputs": [],
   "source": [
    "class CLANet(nn.Module):\n",
    "    def __init__(self, input_size, hidden_size, output_size):\n",
    "        super(CLANet, self).__init__()\n",
    "        self.fc1 = nn.Linear(input_size, hidden_size)\n",
    "        self.relu1 = nn.ReLU()\n",
    "        self.fc2 = nn.Linear(hidden_size, output_size)   # change to hidden_size\n",
    "#         self.relu2 = nn.ReLU()\n",
    "#         self.fc3 = nn.Linear(hidden_size, hidden_size)\n",
    "#         self.relu3 = nn.ReLU()\n",
    "#         self.fc4 = nn.Linear(hidden_size, hidden_size)\n",
    "#         self.relu4 = nn.ReLU()\n",
    "#         self.fc5 = nn.Linear(hidden_size, hidden_size)\n",
    "#         self.relu5 = nn.ReLU()\n",
    "#         self.fc6 = nn.Linear(hidden_size, hidden_size)\n",
    "#         self.relu6 = nn.ReLU()\n",
    "#         self.fc7 = nn.Linear(hidden_size, hidden_size)\n",
    "#         self.relu7 = nn.ReLU()\n",
    "#         self.fc8 = nn.Linear(hidden_size, hidden_size)\n",
    "#         self.relu8 = nn.ReLU()\n",
    "#         self.fc9 = nn.Linear(hidden_size, hidden_size)\n",
    "#         self.relu9 = nn.ReLU()\n",
    "#         self.fc10 = nn.Linear(hidden_size, hidden_size)\n",
    "#         self.relu10 = nn.ReLU()\n",
    "#         self.fc11 = nn.Linear(hidden_size, hidden_size)\n",
    "#         self.relu11 = nn.ReLU()\n",
    "#         self.fc12 = nn.Linear(hidden_size, output_size)\n",
    "        self.sig1 = nn.Sigmoid()\n",
    "        \n",
    "    def forward(self, x):\n",
    "        out = self.fc1(x)\n",
    "        out = self.relu1(out)\n",
    "        out = self.fc2(out)\n",
    "#         out = self.relu2(out)\n",
    "#         out = self.fc3(out)\n",
    "#         out = self.relu3(out)\n",
    "#         out = self.fc4(out)\n",
    "#         out = self.relu4(out)\n",
    "#         out = self.fc5(out)\n",
    "#         out = self.relu5(out)\n",
    "#         out = self.fc6(out)\n",
    "#         out = self.relu6(out)\n",
    "#         out = self.fc7(out)\n",
    "#         out = self.relu7(out)\n",
    "#         out = self.fc8(out)\n",
    "#         out = self.relu8(out)\n",
    "#         out = self.fc9(out)\n",
    "#         out = self.relu9(out)\n",
    "#         out = self.fc10(out)\n",
    "#         out = self.relu10(out)\n",
    "#         out = self.fc11(out)\n",
    "#         out = self.relu11(out)\n",
    "#         out = self.fc12(out)\n",
    "        out = self.sig1(out)\n",
    "        return out"
   ]
  },
  {
   "cell_type": "markdown",
   "metadata": {},
   "source": [
    "### Instantiate the neural network"
   ]
  },
  {
   "cell_type": "code",
   "execution_count": 28,
   "metadata": {},
   "outputs": [],
   "source": [
    "model = CLANet(input_size, hidden_size, output_size)\n",
    "criterion = nn.BCELoss()\n",
    "\n",
    "optimizer = torch.optim.SGD(model.parameters(), lr=learning_rate, nesterov=True, momentum=0.9, dampening=0)\n",
    "model.double();     # cast model parameters to double"
   ]
  },
  {
   "cell_type": "markdown",
   "metadata": {},
   "source": [
    "### Train the neural network"
   ]
  },
  {
   "cell_type": "code",
   "execution_count": 29,
   "metadata": {},
   "outputs": [
    {
     "name": "stdout",
     "output_type": "stream",
     "text": [
      "Epoch: 1/3\n",
      "  Iteration: 1/5, Loss: 0.710293\n",
      "  Iteration: 2/5, Loss: 0.725135\n",
      "  Iteration: 3/5, Loss: 0.709056\n",
      "  Iteration: 4/5, Loss: 0.691431\n",
      "  Iteration: 5/5, Loss: 0.722747\n",
      "Epoch: 2/3\n",
      "  Iteration: 1/5, Loss: 0.711162\n",
      "  Iteration: 2/5, Loss: 0.699591\n",
      "  Iteration: 3/5, Loss: 0.716268\n",
      "  Iteration: 4/5, Loss: 0.718103\n",
      "  Iteration: 5/5, Loss: 0.704675\n",
      "Epoch: 3/3\n",
      "  Iteration: 1/5, Loss: 0.715381\n",
      "  Iteration: 2/5, Loss: 0.706723\n",
      "  Iteration: 3/5, Loss: 0.701867\n",
      "  Iteration: 4/5, Loss: 0.718303\n",
      "  Iteration: 5/5, Loss: 0.703417\n"
     ]
    }
   ],
   "source": [
    "model.train()     # training mode\n",
    "training_loss = []\n",
    "\n",
    "for epoch in range(num_epochs):\n",
    "    print(\"Epoch: %d/%d\" % (epoch+1, num_epochs))\n",
    "\n",
    "    for i, (samples, labels) in enumerate(train_loader):\n",
    "        samples = Variable(samples)\n",
    "        labels = Variable(labels)\n",
    "        output = model(samples)                # forward pass\n",
    "#         output = torch.round(output)           # convert output to binary labels\n",
    "        output = torch.flatten(output)         # resize predicted labels\n",
    "        labels = labels.type(torch.DoubleTensor)\n",
    "        \n",
    "        loss = criterion(output, labels)  # calculate loss\n",
    "        optimizer.zero_grad()     # clear gradient\n",
    "        loss.backward()           # calculate gradients\n",
    "        optimizer.step()          # update weights\n",
    "\n",
    "#         for name, param in model.named_parameters():\n",
    "#             if param.requires_grad:\n",
    "#                 print(name, param.data)\n",
    "        \n",
    "        # calculate and print error\n",
    "#         error = 1 - torch.sum(output == labels).item() / labels.size()[0]\n",
    "        training_loss.append(loss.data.numpy())\n",
    "#         print(\"  Iteration: %d/%d, Error: %0.4f, Loss: %g\" % \n",
    "#               (i+1, np.ceil(X_train.size()[0] / batch_size).astype(int), error, loss.item()))\n",
    "        print(\"  Iteration: %d/%d, Loss: %g\" % \n",
    "              (i+1, np.ceil(X_train.size()[0] / batch_size).astype(int), loss.item()))"
   ]
  },
  {
   "cell_type": "code",
   "execution_count": 31,
   "metadata": {},
   "outputs": [
    {
     "data": {
      "text/plain": [
       "tensor([0.5651, 0.4217, 0.5056, 0.4863, 0.4689, 0.5068, 0.4969, 0.5839, 0.4692,\n",
       "        0.4738, 0.4483, 0.4236, 0.4821, 0.6159, 0.4411, 0.4333, 0.4352, 0.4497,\n",
       "        0.6174, 0.5014, 0.4872, 0.5299, 0.4976, 0.4231, 0.5256, 0.4303, 0.4931,\n",
       "        0.5357, 0.5272, 0.4344, 0.4318, 0.5881, 0.4470, 0.4411, 0.6083, 0.4328,\n",
       "        0.6110, 0.4920, 0.5073, 0.6131, 0.5346, 0.5923, 0.4965, 0.4315, 0.4535,\n",
       "        0.5971, 0.4373, 0.4736, 0.6083, 0.4957, 0.4792, 0.4321, 0.5426, 0.6186,\n",
       "        0.4205, 0.5516, 0.4329, 0.6083, 0.5887, 0.5526, 0.4393, 0.4609, 0.4285,\n",
       "        0.4541, 0.4235, 0.4334, 0.6061, 0.5413, 0.4482, 0.4958],\n",
       "       dtype=torch.float64, grad_fn=<AsStridedBackward>)"
      ]
     },
     "execution_count": 31,
     "metadata": {},
     "output_type": "execute_result"
    }
   ],
   "source": [
    "output\n",
    "# labels"
   ]
  },
  {
   "cell_type": "code",
   "execution_count": null,
   "metadata": {},
   "outputs": [],
   "source": []
  }
 ],
 "metadata": {
  "kernelspec": {
   "display_name": "Python 3",
   "language": "python",
   "name": "python3"
  },
  "language_info": {
   "codemirror_mode": {
    "name": "ipython",
    "version": 3
   },
   "file_extension": ".py",
   "mimetype": "text/x-python",
   "name": "python",
   "nbconvert_exporter": "python",
   "pygments_lexer": "ipython3",
   "version": "3.6.8"
  }
 },
 "nbformat": 4,
 "nbformat_minor": 2
}
