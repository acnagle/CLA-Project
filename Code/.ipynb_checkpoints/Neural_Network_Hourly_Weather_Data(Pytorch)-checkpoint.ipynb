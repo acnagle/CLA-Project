{
 "cells": [
  {
   "cell_type": "markdown",
   "metadata": {},
   "source": [
    "# Neural Network for CLA Project"
   ]
  },
  {
   "cell_type": "markdown",
   "metadata": {},
   "source": [
    "## Import statements"
   ]
  },
  {
   "cell_type": "code",
   "execution_count": 1,
   "metadata": {},
   "outputs": [],
   "source": [
    "from sklearn import preprocessing\n",
    "from sklearn import model_selection\n",
    "import torch\n",
    "import torch.nn as nn\n",
    "import torch.nn.functional as F\n",
    "import torch.utils.data as utils\n",
    "from torch.autograd import Variable\n",
    "import numpy as np\n",
    "import matplotlib.pyplot as plt\n",
    "%matplotlib inline\n",
    "import errno\n",
    "import os\n",
    "import sys\n",
    "import Constants\n",
    "import copy"
   ]
  },
  {
   "cell_type": "markdown",
   "metadata": {},
   "source": [
    "## Hyperparameters"
   ]
  },
  {
   "cell_type": "code",
   "execution_count": 18,
   "metadata": {},
   "outputs": [],
   "source": [
    "# data processing\n",
    "sample_bias = 0     # adjust the difference in the number of the two types of samples (no algae vs algae)\n",
    "test_size = 0.2\n",
    "batch_size = 96    # batch size for the DataLoaders\n",
    "\n",
    "# NN model\n",
    "num_features = 21\n",
    "input_size = num_features     # size of input layer\n",
    "multiplier = 100         # multiplied by num_features to determine the size of each hidden layer\n",
    "hidden_size = multiplier * input_size\n",
    "output_size = 2\n",
    "learning_rate = 0.001         # learning rate of optimizer\n",
    "num_epochs = 100                # number of epochs\n",
    "\n",
    "# training the model\n",
    "use_previous_best_model = False"
   ]
  },
  {
   "cell_type": "markdown",
   "metadata": {},
   "source": [
    "## Read in data"
   ]
  },
  {
   "cell_type": "code",
   "execution_count": 19,
   "metadata": {},
   "outputs": [],
   "source": [
    "np.set_printoptions(threshold=np.inf)  # prints a full matrix rather than an abbreviated matrix\n",
    "\n",
    "# define data and destination paths\n",
    "data_path_hourly = '../Data/hourly-data-sets/'\n",
    "# data_path = \"/Users/Alliot/Documents/CLA-Project/Data/data-sets/\"\n",
    "# data_set_hourly = \"hourly_data_2017\"\n",
    "# data_set = \"all_data_summer\"\n",
    "# data_path = \"../Data/data/\"\n",
    "X_2015 = np.load(data_path_hourly + 'hourly_X_2015.npy')\n",
    "X_2016 = np.load(data_path_hourly + 'hourly_X_2016.npy')\n",
    "X_2017 = np.load(data_path_hourly + 'hourly_X_2017.npy')\n",
    "X_2018 = np.load(data_path_hourly + 'hourly_X_2018.npy')  # WHAT IS THE FIRST COLUMN??? WHERE IS THE ''??????\n",
    "\n",
    "y_2015 = np.load(data_path_hourly + 'hourly_y_2015.npy')\n",
    "y_2016 = np.load(data_path_hourly + 'hourly_y_2016.npy')\n",
    "y_2017 = np.load(data_path_hourly + 'hourly_y_2017.npy')\n",
    "y_2018 = np.load(data_path_hourly + 'hourly_y_2018.npy')\n",
    "\n",
    "# X = np.vstack((X_2015, X_2016, X_2017, X_2018)).astype(float)\n",
    "# y = np.hstack((y_2015, y_2016, y_2017, y_2018))\n",
    "X = X_2018.astype(float)\n",
    "y = y_2018\n",
    "# manipulate data set. labels are converted to 0, +1 for binary classification; samples are removed uniformly \n",
    "# from the data set so that the disproportionately large number of negative samples (no algae) does \n",
    "# not bias the model.\n",
    "\n",
    "num_alg = 0  # count the number of algae instances\n",
    "num_no_alg = 0  # count the number of no algae instances\n",
    "\n",
    "# Convert labels to binary: -1 for no algae and 1 for algae\n",
    "for i in range(0, len(y)):\n",
    "    if y[i] == 0:\n",
    "        num_no_alg += 1\n",
    "    if y[i] == 1 or y[i] == 2:\n",
    "        y[i] = 1\n",
    "        num_alg += 1\n",
    "\n",
    "# oversample the data set by randomly adding occurences of algae until the difference between the number of algae\n",
    "# samples and no algae samples equals sample_bias (defined below)\n",
    "# idx = 0\n",
    "# sample_bias = 0\n",
    "# length_y = len(y)\n",
    "# while num_alg != (num_no_alg + sample_bias):\n",
    "#     # circle through the data sets until the difference of num_no_alg and num_alg equals\n",
    "#     # the value specified by sample_bias\n",
    "#     if idx == (length_y - 1):\n",
    "#         idx = 0\n",
    "\n",
    "#     if y[idx] == 1:\n",
    "#         if np.random.rand() >= 0.5:  # add this sample with some probability\n",
    "#             y = np.append(y, y[idx])\n",
    "#             X = np.append(X, np.reshape(X[idx, :], newshape=(1, num_features)), axis=0)\n",
    "#             num_alg += 1\n",
    "#         else:\n",
    "#             idx += 1\n",
    "#     else:\n",
    "#         idx += 1"
   ]
  },
  {
   "cell_type": "markdown",
   "metadata": {},
   "source": [
    "### Process and split data set"
   ]
  },
  {
   "cell_type": "code",
   "execution_count": 20,
   "metadata": {},
   "outputs": [],
   "source": [
    "# standardize data: remove the mean and variance in each sample\n",
    "num_splits = 2   # do not change\n",
    "sss = model_selection.StratifiedShuffleSplit(n_splits=num_splits, test_size=test_size)\n",
    "\n",
    "idx, _ = sss.split(X, y)\n",
    "train_idx = idx[0]\n",
    "test_idx = idx[1]\n",
    "X_train, X_test = X[train_idx], X[test_idx]\n",
    "y_train, y_test = y[train_idx], y[test_idx]\n",
    "\n",
    "X_train = preprocessing.scale(X_train, axis=1, with_mean=True, with_std=True)\n",
    "X_test = preprocessing.scale(X_test, axis=1, with_mean=True, with_std=True)\n",
    "\n",
    "# convert numpy arrays to pytorch tensors\n",
    "train_set_size = X_train.shape\n",
    "test_set_size = X_test.shape\n",
    "X_train, X_test = torch.from_numpy(X_train), torch.from_numpy(X_test)\n",
    "y_train, y_test = torch.from_numpy(y_train), torch.from_numpy(y_test)\n",
    "\n",
    "# convert pytorch tensors to pytorch TensorDataset\n",
    "train_set = utils.TensorDataset(X_train, y_train)\n",
    "test_set = utils.TensorDataset(X_test, y_test)\n",
    "\n",
    "# create DataLoaders\n",
    "train_loader = utils.DataLoader(train_set, batch_size=batch_size, shuffle=True)\n",
    "test_loader = utils.DataLoader(test_set, batch_size=test_set_size[0], shuffle=True)"
   ]
  },
  {
   "cell_type": "markdown",
   "metadata": {},
   "source": [
    "## Define neural network model"
   ]
  },
  {
   "cell_type": "code",
   "execution_count": 21,
   "metadata": {},
   "outputs": [],
   "source": [
    "class CLANet(nn.Module):\n",
    "    def __init__(self, input_size, hidden_size, output_size):\n",
    "        super(CLANet, self).__init__()\n",
    "        self.fc1 = nn.Linear(input_size, hidden_size)\n",
    "        self.relu1 = nn.ReLU()\n",
    "        self.fc2 = nn.Linear(hidden_size, hidden_size)\n",
    "        self.tanh2 = nn.Tanh()\n",
    "        self.fc3 = nn.Linear(hidden_size, hidden_size)\n",
    "        self.relu3 = nn.ReLU()\n",
    "        self.fc4 = nn.Linear(hidden_size, hidden_size)\n",
    "        self.tanh4 = nn.Tanh()\n",
    "        self.fc5 = nn.Linear(hidden_size, hidden_size)\n",
    "        self.relu5 = nn.ReLU()\n",
    "        self.fc6 = nn.Linear(hidden_size, output_size)     # previously, this was output_size\n",
    "#         self.tanh6 = nn.Tanh()                             # previously, this was the line which was commented out\n",
    "#         self.fc7 = nn.Linear(hidden_size, output_size)\n",
    "#         self.relu7 = nn.ReLU()\n",
    "#         self.fc8 = nn.Linear(hidden_size, hidden_size)\n",
    "#         self.relu8 = nn.ReLU()\n",
    "#         self.fc9 = nn.Linear(hidden_size, output_size)\n",
    "#         self.relu9 = nn.ReLU()\n",
    "#         self.fc10 = nn.Linear(hidden_size, hidden_size)\n",
    "#         self.relu10 = nn.ReLU()\n",
    "#         self.fc11 = nn.Linear(hidden_size, hidden_size)\n",
    "#         self.relu11 = nn.ReLU()\n",
    "#         self.fc12 = nn.Linear(hidden_size, output_size)\n",
    "        self.sig1 = nn.Softmax(dim=1)\n",
    "        \n",
    "    def forward(self, x):\n",
    "        out = self.fc1(x)\n",
    "        out = self.relu1(out)\n",
    "        out = self.fc2(out)\n",
    "        out = self.tanh2(out)\n",
    "        out = self.fc3(out)\n",
    "        out = self.relu3(out)\n",
    "        out = self.fc4(out)\n",
    "        out = self.tanh4(out)\n",
    "        out = self.fc5(out)\n",
    "        out = self.relu5(out)\n",
    "        out = self.fc6(out)\n",
    "#         out = self.tanh6(out)\n",
    "#         out = self.fc7(out)\n",
    "#         out = self.relu7(out)\n",
    "#         out = self.fc8(out)\n",
    "#         out = self.relu8(out)\n",
    "#         out = self.fc9(out)\n",
    "#         out = self.relu9(out)\n",
    "#         out = self.fc10(out)\n",
    "#         out = self.relu10(out)\n",
    "#         out = self.fc11(out)\n",
    "#         out = self.relu11(out)\n",
    "#         out = self.fc12(out)\n",
    "        out = self.sig1(out)\n",
    "        return out"
   ]
  },
  {
   "cell_type": "markdown",
   "metadata": {},
   "source": [
    "### Instantiate the neural network"
   ]
  },
  {
   "cell_type": "code",
   "execution_count": 22,
   "metadata": {},
   "outputs": [],
   "source": [
    "# determine weight vector for the each class; used in the loss function\n",
    "num_pos = y.tolist().count(0)\n",
    "weight_pos = 10\n",
    "num_neg = y.tolist().count(1)\n",
    "weight_neg = 1\n",
    "weight = torch.tensor([weight_neg, weight_pos]).type(torch.DoubleTensor)\n",
    "\n",
    "# define model\n",
    "model = CLANet(input_size, hidden_size, output_size)\n",
    "criterion = nn.CrossEntropyLoss(weight=weight)\n",
    "\n",
    "# optimizer = torch.optim.SGD(model.parameters(), lr=learning_rate, nesterov=True, momentum=1, dampening=0)\n",
    "optimizer = torch.optim.Adam(model.parameters(), lr=learning_rate, betas=(0.9, 0.999), eps=1e-8)\n",
    "model.double();     # cast model parameters to double"
   ]
  },
  {
   "cell_type": "markdown",
   "metadata": {},
   "source": [
    "## Train the neural network"
   ]
  },
  {
   "cell_type": "code",
   "execution_count": 23,
   "metadata": {
    "scrolled": true
   },
   "outputs": [
    {
     "name": "stdout",
     "output_type": "stream",
     "text": [
      "Epoch: 1/100\n",
      "  Iteration: 1/15, Loss: 0.692998, Error: 0.6458\n",
      "  Iteration: 2/15, Loss: 0.481, Error: 0.6667\n",
      "  Iteration: 3/15, Loss: 0.544031, Error: 0.7500\n",
      "  Iteration: 4/15, Loss: 0.486595, Error: 0.6771\n",
      "  Iteration: 5/15, Loss: 0.456119, Error: 0.6250\n",
      "  Iteration: 6/15, Loss: 0.508664, Error: 0.7083\n",
      "  Iteration: 7/15, Loss: 0.456119, Error: 0.6250\n",
      "  Iteration: 8/15, Loss: 0.516802, Error: 0.7188\n",
      "  Iteration: 9/15, Loss: 0.473567, Error: 0.6562\n",
      "  Iteration: 10/15, Loss: 0.486595, Error: 0.6771\n",
      "  Iteration: 11/15, Loss: 0.516802, Error: 0.7188\n",
      "  Iteration: 12/15, Loss: 0.534445, Error: 0.7396\n",
      "  Iteration: 13/15, Loss: 0.467491, Error: 0.6458\n",
      "  Iteration: 14/15, Loss: 0.525383, Error: 0.7292\n",
      "  Iteration: 15/15, Loss: 0.513262, Error: 0.7143\n",
      "Average Error for this Epoch: 0.6865\n",
      "found a better model!\n",
      "Epoch: 2/100\n",
      "  Iteration: 1/15, Loss: 0.554186, Error: 0.7604\n",
      "  Iteration: 2/15, Loss: 0.486595, Error: 0.6771\n",
      "  Iteration: 3/15, Loss: 0.57642, Error: 0.7812\n",
      "  Iteration: 4/15, Loss: 0.486595, Error: 0.6771\n",
      "  Iteration: 5/15, Loss: 0.500937, Error: 0.6979\n",
      "  Iteration: 6/15, Loss: 0.516802, Error: 0.7188\n",
      "  Iteration: 7/15, Loss: 0.508664, Error: 0.7083\n",
      "  Iteration: 8/15, Loss: 0.500937, Error: 0.6979\n",
      "  Iteration: 9/15, Loss: 0.508664, Error: 0.7083\n",
      "  Iteration: 10/15, Loss: 0.456119, Error: 0.6250\n",
      "  Iteration: 11/15, Loss: 0.554186, Error: 0.7604\n",
      "  Iteration: 12/15, Loss: 0.456119, Error: 0.6250\n",
      "  Iteration: 13/15, Loss: 0.486595, Error: 0.6771\n",
      "  Iteration: 14/15, Loss: 0.500937, Error: 0.6979\n",
      "  Iteration: 15/15, Loss: 0.441467, Error: 0.5952\n",
      "Average Error for this Epoch: 0.6938\n",
      "Epoch: 3/100\n",
      "  Iteration: 1/15, Loss: 0.467491, Error: 0.6458\n",
      "  Iteration: 2/15, Loss: 0.525383, Error: 0.7292\n",
      "  Iteration: 3/15, Loss: 0.456119, Error: 0.6250\n",
      "  Iteration: 4/15, Loss: 0.508664, Error: 0.7083\n",
      "  Iteration: 5/15, Loss: 0.525383, Error: 0.7292\n",
      "  Iteration: 6/15, Loss: 0.525383, Error: 0.7292\n",
      "  Iteration: 7/15, Loss: 0.49359, Error: 0.6875\n",
      "  Iteration: 8/15, Loss: 0.57642, Error: 0.7812\n",
      "  Iteration: 9/15, Loss: 0.467491, Error: 0.6458\n",
      "  Iteration: 10/15, Loss: 0.49359, Error: 0.6875\n",
      "  Iteration: 11/15, Loss: 0.554186, Error: 0.7604\n",
      "  Iteration: 12/15, Loss: 0.473567, Error: 0.6562\n",
      "  Iteration: 13/15, Loss: 0.49359, Error: 0.6875\n",
      "  Iteration: 14/15, Loss: 0.508664, Error: 0.7083\n",
      "  Iteration: 15/15, Loss: 0.459267, Error: 0.6310\n",
      "Average Error for this Epoch: 0.6941\n",
      "Epoch: 4/100\n",
      "  Iteration: 1/15, Loss: 0.467491, Error: 0.6458\n",
      "  Iteration: 2/15, Loss: 0.525383, Error: 0.7292\n",
      "  Iteration: 3/15, Loss: 0.456119, Error: 0.6250\n",
      "  Iteration: 4/15, Loss: 0.534445, Error: 0.7396\n",
      "  Iteration: 5/15, Loss: 0.508664, Error: 0.7083\n",
      "  Iteration: 6/15, Loss: 0.479928, Error: 0.6667\n",
      "  Iteration: 7/15, Loss: 0.508664, Error: 0.7083\n",
      "  Iteration: 8/15, Loss: 0.534445, Error: 0.7396\n",
      "  Iteration: 9/15, Loss: 0.508664, Error: 0.7083\n",
      "  Iteration: 10/15, Loss: 0.49359, Error: 0.6875\n",
      "  Iteration: 11/15, Loss: 0.544031, Error: 0.7500\n",
      "  Iteration: 12/15, Loss: 0.486595, Error: 0.6771\n",
      "  Iteration: 13/15, Loss: 0.486595, Error: 0.6771\n",
      "  Iteration: 14/15, Loss: 0.49359, Error: 0.6875\n",
      "  Iteration: 15/15, Loss: 0.479928, Error: 0.6667\n",
      "Average Error for this Epoch: 0.6944\n",
      "Epoch: 5/100\n",
      "  Iteration: 1/15, Loss: 0.49359, Error: 0.6875\n",
      "  Iteration: 2/15, Loss: 0.544031, Error: 0.7500\n",
      "  Iteration: 3/15, Loss: 0.534445, Error: 0.7396\n",
      "  Iteration: 4/15, Loss: 0.456119, Error: 0.6250\n",
      "  Iteration: 5/15, Loss: 0.500937, Error: 0.6979\n",
      "  Iteration: 6/15, Loss: 0.473567, Error: 0.6562\n",
      "  Iteration: 7/15, Loss: 0.554186, Error: 0.7604\n",
      "  Iteration: 8/15, Loss: 0.467491, Error: 0.6458\n",
      "  Iteration: 9/15, Loss: 0.479928, Error: 0.6667\n",
      "  Iteration: 10/15, Loss: 0.486595, Error: 0.6771\n",
      "  Iteration: 11/15, Loss: 0.564962, Error: 0.7708\n",
      "  Iteration: 12/15, Loss: 0.49359, Error: 0.6875\n",
      "  Iteration: 13/15, Loss: 0.49359, Error: 0.6875\n",
      "  Iteration: 14/15, Loss: 0.508664, Error: 0.7083\n",
      "  Iteration: 15/15, Loss: 0.472682, Error: 0.6548\n",
      "Average Error for this Epoch: 0.6943\n",
      "Epoch: 6/100\n",
      "  Iteration: 1/15, Loss: 0.456119, Error: 0.6250\n",
      "  Iteration: 2/15, Loss: 0.473567, Error: 0.6562\n",
      "  Iteration: 3/15, Loss: 0.516802, Error: 0.7188\n",
      "  Iteration: 4/15, Loss: 0.516802, Error: 0.7188\n",
      "  Iteration: 5/15, Loss: 0.473567, Error: 0.6562\n",
      "  Iteration: 6/15, Loss: 0.554186, Error: 0.7604\n",
      "  Iteration: 7/15, Loss: 0.479928, Error: 0.6667\n",
      "  Iteration: 8/15, Loss: 0.486595, Error: 0.6771\n",
      "  Iteration: 9/15, Loss: 0.486595, Error: 0.6771\n",
      "  Iteration: 10/15, Loss: 0.467491, Error: 0.6458\n",
      "  Iteration: 11/15, Loss: 0.486595, Error: 0.6771\n",
      "  Iteration: 12/15, Loss: 0.544031, Error: 0.7500\n",
      "  Iteration: 13/15, Loss: 0.508664, Error: 0.7083\n",
      "  Iteration: 14/15, Loss: 0.564962, Error: 0.7708\n"
     ]
    },
    {
     "ename": "KeyboardInterrupt",
     "evalue": "",
     "output_type": "error",
     "traceback": [
      "\u001b[0;31m---------------------------------------------------------------------------\u001b[0m",
      "\u001b[0;31mKeyboardInterrupt\u001b[0m                         Traceback (most recent call last)",
      "\u001b[0;32m<ipython-input-23-08aac20ea42b>\u001b[0m in \u001b[0;36m<module>\u001b[0;34m\u001b[0m\n\u001b[1;32m     19\u001b[0m         \u001b[0moptimizer\u001b[0m\u001b[0;34m.\u001b[0m\u001b[0mzero_grad\u001b[0m\u001b[0;34m(\u001b[0m\u001b[0;34m)\u001b[0m     \u001b[0;31m# clear gradient\u001b[0m\u001b[0;34m\u001b[0m\u001b[0;34m\u001b[0m\u001b[0m\n\u001b[1;32m     20\u001b[0m         \u001b[0mloss\u001b[0m\u001b[0;34m.\u001b[0m\u001b[0mbackward\u001b[0m\u001b[0;34m(\u001b[0m\u001b[0;34m)\u001b[0m           \u001b[0;31m# calculate gradients\u001b[0m\u001b[0;34m\u001b[0m\u001b[0;34m\u001b[0m\u001b[0m\n\u001b[0;32m---> 21\u001b[0;31m         \u001b[0moptimizer\u001b[0m\u001b[0;34m.\u001b[0m\u001b[0mstep\u001b[0m\u001b[0;34m(\u001b[0m\u001b[0;34m)\u001b[0m          \u001b[0;31m# update weights\u001b[0m\u001b[0;34m\u001b[0m\u001b[0;34m\u001b[0m\u001b[0m\n\u001b[0m\u001b[1;32m     22\u001b[0m \u001b[0;34m\u001b[0m\u001b[0m\n\u001b[1;32m     23\u001b[0m         \u001b[0;31m# calculate and print error\u001b[0m\u001b[0;34m\u001b[0m\u001b[0;34m\u001b[0m\u001b[0;34m\u001b[0m\u001b[0m\n",
      "\u001b[0;32m~/Applications/anaconda3/lib/python3.7/site-packages/torch/optim/adam.py\u001b[0m in \u001b[0;36mstep\u001b[0;34m(self, closure)\u001b[0m\n\u001b[1;32m     92\u001b[0m                 \u001b[0;31m# Decay the first and second moment running average coefficient\u001b[0m\u001b[0;34m\u001b[0m\u001b[0;34m\u001b[0m\u001b[0;34m\u001b[0m\u001b[0m\n\u001b[1;32m     93\u001b[0m                 \u001b[0mexp_avg\u001b[0m\u001b[0;34m.\u001b[0m\u001b[0mmul_\u001b[0m\u001b[0;34m(\u001b[0m\u001b[0mbeta1\u001b[0m\u001b[0;34m)\u001b[0m\u001b[0;34m.\u001b[0m\u001b[0madd_\u001b[0m\u001b[0;34m(\u001b[0m\u001b[0;36m1\u001b[0m \u001b[0;34m-\u001b[0m \u001b[0mbeta1\u001b[0m\u001b[0;34m,\u001b[0m \u001b[0mgrad\u001b[0m\u001b[0;34m)\u001b[0m\u001b[0;34m\u001b[0m\u001b[0;34m\u001b[0m\u001b[0m\n\u001b[0;32m---> 94\u001b[0;31m                 \u001b[0mexp_avg_sq\u001b[0m\u001b[0;34m.\u001b[0m\u001b[0mmul_\u001b[0m\u001b[0;34m(\u001b[0m\u001b[0mbeta2\u001b[0m\u001b[0;34m)\u001b[0m\u001b[0;34m.\u001b[0m\u001b[0maddcmul_\u001b[0m\u001b[0;34m(\u001b[0m\u001b[0;36m1\u001b[0m \u001b[0;34m-\u001b[0m \u001b[0mbeta2\u001b[0m\u001b[0;34m,\u001b[0m \u001b[0mgrad\u001b[0m\u001b[0;34m,\u001b[0m \u001b[0mgrad\u001b[0m\u001b[0;34m)\u001b[0m\u001b[0;34m\u001b[0m\u001b[0;34m\u001b[0m\u001b[0m\n\u001b[0m\u001b[1;32m     95\u001b[0m                 \u001b[0;32mif\u001b[0m \u001b[0mamsgrad\u001b[0m\u001b[0;34m:\u001b[0m\u001b[0;34m\u001b[0m\u001b[0;34m\u001b[0m\u001b[0m\n\u001b[1;32m     96\u001b[0m                     \u001b[0;31m# Maintains the maximum of all 2nd moment running avg. till now\u001b[0m\u001b[0;34m\u001b[0m\u001b[0;34m\u001b[0m\u001b[0;34m\u001b[0m\u001b[0m\n",
      "\u001b[0;31mKeyboardInterrupt\u001b[0m: "
     ]
    }
   ],
   "source": [
    "model.train()     # training mode\n",
    "if not use_previous_best_model:\n",
    "    avg_error = 0\n",
    "    best_avg_error = 1\n",
    "\n",
    "avg_error_vec = []\n",
    "\n",
    "for epoch in range(num_epochs):\n",
    "    print(\"Epoch: %d/%d\" % (epoch+1, num_epochs))\n",
    "\n",
    "    for i, (samples, labels) in enumerate(train_loader):\n",
    "        samples = Variable(samples)\n",
    "        labels = Variable(labels)\n",
    "        output = model(samples)                # forward pass\n",
    "#         output = torch.flatten(output)         # resize predicted labels\n",
    "        labels = labels.type(torch.long)\n",
    "        \n",
    "        loss = criterion(output, labels)  # calculate loss\n",
    "        optimizer.zero_grad()     # clear gradient\n",
    "        loss.backward()           # calculate gradients\n",
    "        optimizer.step()          # update weights\n",
    "        \n",
    "        # calculate and print error\n",
    "        out = output\n",
    "\n",
    "        out = torch.argmax(output, dim=1)   # convert output of network to labels for accuracy calculation\n",
    "        error = 1 - torch.sum(out == labels).item() / labels.size()[0]\n",
    "        avg_error += error\n",
    "\n",
    "        print(\"  Iteration: %d/%d, Loss: %g, Error: %0.4f\" % \n",
    "              (i+1, np.ceil(X_train.size()[0] / batch_size).astype(int), loss.item(), error))\n",
    "    \n",
    "    avg_error = avg_error / np.ceil(X_train.size()[0] / batch_size)\n",
    "    avg_error_vec.append(avg_error)\n",
    "    print(\"Average Error for this Epoch: %0.4f\" % avg_error)\n",
    "\n",
    "    if avg_error < best_avg_error:\n",
    "        print(\"found a better model!\")\n",
    "        best_avg_error = avg_error\n",
    "        best_model = copy.deepcopy(model)\n",
    "        use_previous_best_model = True\n",
    "    \n",
    "    avg_error = 0"
   ]
  },
  {
   "cell_type": "code",
   "execution_count": null,
   "metadata": {},
   "outputs": [],
   "source": [
    "plt.figure()\n",
    "plt.plot(np.linspace(start=1, stop=num_epochs, num=num_epochs), avg_error_vec)\n",
    "plt.xlabel(\"Number of Epochs\")\n",
    "plt.ylabel(\"Average Training Error\")\n",
    "plt.title(\"Average Training Error for Epochs=1:\" + str(num_epochs))\n",
    "plt.grid(True)\n",
    "# plt.savefig(\"Neural Net Training Error.jpg\")"
   ]
  },
  {
   "cell_type": "markdown",
   "metadata": {},
   "source": [
    "## Evaluate model on testing set"
   ]
  },
  {
   "cell_type": "code",
   "execution_count": 16,
   "metadata": {},
   "outputs": [
    {
     "name": "stdout",
     "output_type": "stream",
     "text": [
      "Testing set Error: 0.6947\n"
     ]
    }
   ],
   "source": [
    "best_model.eval()\n",
    "conf = torch.tensor([])\n",
    "target = torch.tensor([])\n",
    "\n",
    "for i, (samples, labels) in enumerate(test_loader):\n",
    "    samples = Variable(samples)\n",
    "    labels = Variable(labels)\n",
    "    predictions = best_model(samples)\n",
    "#     predictions = torch.flatten(predictions)\n",
    "    labels = labels.type(torch.long)\n",
    "\n",
    "    predictions = torch.argmax(predictions, dim=1)   # convert output of network to labels for accuracy calculation\n",
    "    \n",
    "    error = 1 - torch.sum(predictions == labels).item() / labels.size()[0]\n",
    "    \n",
    "    print(\"Testing set Error: %0.4f\" % error)\n",
    "    \n",
    "    conf = torch.cat((conf, predictions.type(torch.FloatTensor)))\n",
    "    target = torch.cat((target, labels.type(torch.FloatTensor)))\n",
    "    \n",
    "# convert to numpy arrays  TODO: MAKE SURE THAT YOU USE CONF FROM EVERY PREDICTION\n",
    "conf = conf.detach().numpy()\n",
    "labels = labels.numpy()\n",
    "\n",
    "# sort arrays according to the predicted confidence (high confidence to low confidence)\n",
    "sort_idx = np.argsort(-conf, kind='mergesort')\n",
    "conf = conf[sort_idx]\n",
    "labels = labels[sort_idx]\n",
    "    \n",
    "# model_path = dest_path + \"torch_model_4_4_19_lr=\" + str(learning_rate) + \"_hourly_dict.pt\""
   ]
  },
  {
   "cell_type": "markdown",
   "metadata": {},
   "source": [
    "### Save Model"
   ]
  },
  {
   "cell_type": "code",
   "execution_count": null,
   "metadata": {},
   "outputs": [],
   "source": [
    "torch.save(model.state_dict(), model_path)"
   ]
  },
  {
   "cell_type": "markdown",
   "metadata": {},
   "source": [
    "### Load and Evaluate previous models"
   ]
  },
  {
   "cell_type": "code",
   "execution_count": null,
   "metadata": {},
   "outputs": [],
   "source": [
    "model = CLANet(input_size, hidden_size, output_size)\n",
    "model.load_state_dict(torch.load(dest_path + \"torch_model_4_4_19_lr=0.001_hourly_dict.pt\"))\n",
    "model.double()     # cast model parameters to double\n",
    "model.eval()\n",
    "\n",
    "for i, (samples, labels) in enumerate(test_loader):\n",
    "    samples = Variable(samples)\n",
    "    labels = Variable(labels)\n",
    "    conf = model(samples)\n",
    "    conf = torch.flatten(conf)\n",
    "    labels = labels.type(torch.DoubleTensor)\n",
    "    \n",
    "    for j in range(conf.size()[0]):\n",
    "        if conf[j] < 0.5:\n",
    "            conf[j] = 0\n",
    "        else:\n",
    "            conf[j] = 1\n",
    "                \n",
    "    error = 1 - torch.sum(conf == labels).item() / labels.size()[0]\n",
    "    \n",
    "    print(\"Testing set Error: %0.4f\" % error)"
   ]
  },
  {
   "cell_type": "markdown",
   "metadata": {},
   "source": [
    "## Best Model Evaluation"
   ]
  },
  {
   "cell_type": "code",
   "execution_count": null,
   "metadata": {},
   "outputs": [],
   "source": [
    "model = CLANet(input_size, hidden_size, output_size)\n",
    "model.load_state_dict(torch.load(dest_path + \"torch_model_4_4_19_lr=0.001_hourly_dict.pt\"))\n",
    "model.double()     # cast model parameters to double\n",
    "model.eval()\n",
    "\n",
    "for i, (samples, labels) in enumerate(test_loader):\n",
    "    samples = Variable(samples)\n",
    "    labels = Variable(labels)\n",
    "    conf = model(samples)    # confidence that a certain instance is predicted correctly\n",
    "    conf = torch.flatten(conf)\n",
    "    labels = labels.type(torch.DoubleTensor)\n",
    "    \n",
    "# convert to numpy arrays\n",
    "conf = conf.detach().numpy()\n",
    "labels = labels.numpy()\n",
    "\n",
    "# sort arrays according to the predicted confidence (high confidence to low confidence)\n",
    "sort_idx = np.argsort(-conf, kind='mergesort')\n",
    "conf = conf[sort_idx]\n",
    "labels = labels[sort_idx]"
   ]
  },
  {
   "cell_type": "markdown",
   "metadata": {},
   "source": [
    "### ROC Curve"
   ]
  },
  {
   "cell_type": "code",
   "execution_count": 17,
   "metadata": {},
   "outputs": [
    {
     "data": {
      "image/png": "[encoded data removed]",
      "text/plain": [
       "<Figure size 864x576 with 1 Axes>"
      ]
     },
     "metadata": {},
     "output_type": "display_data"
    }
   ],
   "source": [
    "fpr, tpr, _ = roc_curve(labels, conf, pos_label=1)\n",
    "\n",
    "plt.figure(figsize=(12, 8))\n",
    "plt.plot(fpr, tpr)\n",
    "plt.xlabel('False Postive Rate (FPR)', fontsize=20)\n",
    "plt.ylabel('True Positive Rate (TPR)', fontsize=20)\n",
    "plt.axis([0, 1, 0, 1.001])\n",
    "plt.title('ROC Curve', fontsize=20)\n",
    "plt.tight_layout()\n",
    "plt.grid(True)"
   ]
  },
  {
   "cell_type": "markdown",
   "metadata": {},
   "source": [
    "### PR Curve"
   ]
  },
  {
   "cell_type": "code",
   "execution_count": null,
   "metadata": {},
   "outputs": [],
   "source": [
    "for i, (samples, labels) in enumerate(test_loader):\n",
    "    samples = Variable(samples)\n",
    "    labels = Variable(labels)\n",
    "    pred = model(samples)\n",
    "    pred = torch.flatten(pred)\n",
    "    labels = labels.type(torch.DoubleTensor)\n",
    "\n",
    "# convert to numpy arrays\n",
    "pred = pred.detach().numpy()\n",
    "labels = labels.numpy()\n",
    "\n",
    "# sort arrays according to the predicted confidence (high confidence to low confidence)\n",
    "sort_idx = np.argsort(-pred, kind='mergesort')\n",
    "pred = pred[sort_idx]\n",
    "labels = labels[sort_idx]\n",
    "\n",
    "num_pred_pos = 0\n",
    "num_actual_pos = 0\n",
    "num_tp = 0\n",
    "precision = []\n",
    "recall = []\n",
    "\n",
    "for confidence in conf:\n",
    "    for i in range(len(pred)):\n",
    "        if pred[i] >= confidence:\n",
    "            num_pred_pos += 1\n",
    "            \n",
    "            if labels[i] == 1:\n",
    "                num_tp += 1\n",
    "        \n",
    "        if labels[i] == 1:\n",
    "            num_actual_pos += 1\n",
    "\n",
    "    precision.append(num_tp / num_pred_pos)\n",
    "    recall.append(num_tp / num_actual_pos)\n",
    "    \n",
    "    num_pred_pos = 0\n",
    "    num_actual_pos = 0\n",
    "    num_tp = 0\n",
    "\n",
    "plt.figure(figsize=(12, 8))\n",
    "plt.plot(recall, precision)\n",
    "plt.xlabel('Recall', fontsize=20)\n",
    "plt.ylabel('Precision', fontsize=20)\n",
    "plt.axis([0, 1.001, 0.4, 1])\n",
    "plt.title('PR Curve', fontsize=20)\n",
    "plt.tight_layout()\n",
    "plt.grid(True)"
   ]
  },
  {
   "cell_type": "markdown",
   "metadata": {},
   "source": [
    "## Test best model on other data sets"
   ]
  },
  {
   "cell_type": "markdown",
   "metadata": {},
   "source": [
    "### Read in data"
   ]
  },
  {
   "cell_type": "code",
   "execution_count": null,
   "metadata": {},
   "outputs": [],
   "source": [
    "# define data path\n",
    "data_path = \"/Users/Alliot/Documents/CLA-Project/Data/hourly-data-sets/\"\n",
    "data_set = \"hourly_data_2014\"\n",
    "\n",
    "# load data sets\n",
    "X = np.load(data_path + data_set + \".npy\")\n",
    "y = np.load(data_path + data_set + \"_labels.npy\")\n",
    "\n",
    "# manipulate data set. labels are converted to 0, +1 for binary classification; samples are removed uniformly \n",
    "# from the data set so that the disproportionately large number of negative samples (no algae) does \n",
    "# not bias the model.\n",
    "\n",
    "num_alg = 0  # count the number of algae instances\n",
    "num_no_alg = 0  # count the number of no algae instances\n",
    "\n",
    "# Convert labels to binary: -1 for no algae and 1 for algae\n",
    "for i in range(0, len(y)):\n",
    "    if y[i] == 0:\n",
    "        num_no_alg += 1\n",
    "    if y[i] == 1 or y[i] == 2:\n",
    "        y[i] = 1\n",
    "        num_alg += 1\n",
    "\n",
    "# oversample the data set by randomly adding occurences of algae until the difference between the number of algae\n",
    "# samples and no algae samples equals sample_bias (defined below)\n",
    "idx = 0\n",
    "sample_bias = 0\n",
    "length_y = len(y)\n",
    "while num_alg != (num_no_alg + sample_bias):\n",
    "    # circle through the data sets until the difference of num_no_alg and num_alg equals\n",
    "    # the value specified by sample_bias\n",
    "    if idx == (length_y - 1):\n",
    "        idx = 0\n",
    "\n",
    "    if y[idx] == 1:\n",
    "        if np.random.rand() >= 0.5:  # add this sample with some probability\n",
    "            y = np.append(y, y[idx])\n",
    "            X = np.append(X, np.reshape(X[idx, :], newshape=(1, num_features)), axis=0)\n",
    "            num_alg += 1\n",
    "        else:\n",
    "            idx += 1\n",
    "    else:\n",
    "        idx += 1"
   ]
  },
  {
   "cell_type": "markdown",
   "metadata": {},
   "source": [
    "### Process and split data"
   ]
  },
  {
   "cell_type": "code",
   "execution_count": null,
   "metadata": {},
   "outputs": [],
   "source": [
    "# standardize data: remove the mean and variance in each sample\n",
    "num_splits = 2   # do not change\n",
    "sss = model_selection.StratifiedShuffleSplit(n_splits=num_splits, test_size=test_size)\n",
    "\n",
    "idx, _ = sss.split(X, y);\n",
    "train_idx = idx[0]\n",
    "test_idx = idx[1]\n",
    "X_train, X_test = X[train_idx], X[test_idx]\n",
    "y_train, y_test = y[train_idx], y[test_idx]\n",
    "\n",
    "X_train = preprocessing.scale(X_train, axis=1, with_mean=True, with_std=True)\n",
    "X_test = preprocessing.scale(X_test, axis=1, with_mean=True, with_std=True)\n",
    "\n",
    "# convert numpy arrays to pytorch tensors\n",
    "train_set_size = X_train.shape\n",
    "test_set_size = X_test.shape\n",
    "X_train, X_test = torch.from_numpy(X_train), torch.from_numpy(X_test)\n",
    "y_train, y_test = torch.from_numpy(y_train), torch.from_numpy(y_test)\n",
    "\n",
    "# convert pytorch tensors to pytorch TensorDataset\n",
    "train_set = utils.TensorDataset(X_train, y_train)\n",
    "test_set = utils.TensorDataset(X_test, y_test)\n",
    "\n",
    "# create DataLoaders\n",
    "train_loader = utils.DataLoader(train_set, batch_size=batch_size, shuffle=True)\n",
    "test_loader = utils.DataLoader(test_set, batch_size=test_set_size[0], shuffle=True)"
   ]
  },
  {
   "cell_type": "markdown",
   "metadata": {},
   "source": [
    "### Evaluate best model"
   ]
  },
  {
   "cell_type": "code",
   "execution_count": null,
   "metadata": {},
   "outputs": [],
   "source": [
    "for i, (samples, labels) in enumerate(test_loader):\n",
    "    samples = Variable(samples)\n",
    "    labels = Variable(labels)\n",
    "    conf = model(samples)\n",
    "    conf = torch.flatten(conf)\n",
    "    labels = labels.type(torch.DoubleTensor)\n",
    "    \n",
    "    for j in range(conf.size()[0]):\n",
    "        if conf[j] < 0.5:\n",
    "            conf[j] = 0\n",
    "        else:\n",
    "            conf[j] = 1\n",
    "                \n",
    "    error = 1 - torch.sum(conf == labels).item() / labels.size()[0]\n",
    "    \n",
    "    print(\"Testing set Error: %0.4f\" % error)"
   ]
  },
  {
   "cell_type": "markdown",
   "metadata": {},
   "source": [
    "### Optimizer parameter adjust"
   ]
  },
  {
   "cell_type": "code",
   "execution_count": null,
   "metadata": {},
   "outputs": [],
   "source": [
    "for p in optimizer.param_groups:\n",
    "    p[\"lr\"] = 0.003\n",
    "    p[\"momentum\"] = 0.5"
   ]
  },
  {
   "cell_type": "code",
   "execution_count": null,
   "metadata": {},
   "outputs": [],
   "source": [
    "for p in optimizer.param_groups:\n",
    "    p[\"lr\"] = 0.001\n",
    "    p[\"momentum\"] = 0.2"
   ]
  },
  {
   "cell_type": "code",
   "execution_count": null,
   "metadata": {},
   "outputs": [],
   "source": [
    "for p in optimizer.param_groups:\n",
    "    p[\"lr\"] = 0.00001\n",
    "    p[\"momentum\"] = 0"
   ]
  },
  {
   "cell_type": "code",
   "execution_count": null,
   "metadata": {},
   "outputs": [],
   "source": [
    "for p in optimizer.param_groups:\n",
    "    p[\"lr\"] = 0.0000005"
   ]
  },
  {
   "cell_type": "code",
   "execution_count": null,
   "metadata": {},
   "outputs": [],
   "source": [
    "for p in optimizer.param_groups:\n",
    "    p[\"lr\"] = 0.0003\n",
    "    p[\"momentum\"] = 0.5"
   ]
  }
 ],
 "metadata": {
  "kernelspec": {
   "display_name": "Python 3",
   "language": "python",
   "name": "python3"
  },
  "language_info": {
   "codemirror_mode": {
    "name": "ipython",
    "version": 3
   },
   "file_extension": ".py",
   "mimetype": "text/x-python",
   "name": "python",
   "nbconvert_exporter": "python",
   "pygments_lexer": "ipython3",
   "version": "3.7.3"
  }
 },
 "nbformat": 4,
 "nbformat_minor": 2
}
