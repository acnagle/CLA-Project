{
 "cells": [
  {
   "cell_type": "markdown",
   "metadata": {},
   "source": [
    "# Evaluate Various Models for CLA Data"
   ]
  },
  {
   "cell_type": "markdown",
   "metadata": {},
   "source": [
    "## Import Statements"
   ]
  },
  {
   "cell_type": "code",
   "execution_count": 1,
   "metadata": {},
   "outputs": [],
   "source": [
    "from sklearn import preprocessing\n",
    "from sklearn import model_selection\n",
    "from sklearn import svm\n",
    "from sklearn.linear_model import LogisticRegression\n",
    "from sklearn.neighbors import KNeighborsClassifier\n",
    "from sklearn.metrics import roc_curve, precision_recall_curve, roc_auc_score\n",
    "import torch\n",
    "import torch.nn as nn\n",
    "import torch.nn.functional as F\n",
    "import torch.utils.data as utils\n",
    "from torch.autograd import Variable\n",
    "import numpy as np\n",
    "from matplotlib import rcParams\n",
    "rcParams['font.family'] = 'sans-serif'\n",
    "rcParams['font.sans-serif'] = ['Tahoma']\n",
    "import matplotlib.pyplot as plt\n",
    "%matplotlib inline\n",
    "import errno\n",
    "import os\n",
    "import sys\n",
    "import copy"
   ]
  },
  {
   "cell_type": "markdown",
   "metadata": {},
   "source": [
    "## Hyperparameters"
   ]
  },
  {
   "cell_type": "code",
   "execution_count": 2,
   "metadata": {},
   "outputs": [],
   "source": [
    "sample_bias = 0     # adjust the difference in the number of the two types of samples (no algae vs algae)\n",
    "test_size = 0.2\n",
    "num_splits = 10\n",
    "k = 1   # for k-NN\n",
    "num_subsets = 10\n",
    "batch_size = 96    # batch size for the DataLoaders\n",
    "\n",
    "# NN model\n",
    "num_features = 17\n",
    "input_size = num_features     # size of input layer\n",
    "multiplier = 100              # multiplied by num_features to determine the size of each hidden layer\n",
    "hidden_size = multiplier * input_size\n",
    "output_size = 1\n",
    "learning_rate = 0.001         # learning rate of optimizer. previously was 0.01\n",
    "num_epochs = 100              # number of epochs"
   ]
  },
  {
   "cell_type": "markdown",
   "metadata": {},
   "source": [
    "## Read in Data"
   ]
  },
  {
   "cell_type": "code",
   "execution_count": 3,
   "metadata": {},
   "outputs": [],
   "source": [
    "np.set_printoptions(threshold=np.inf)  # prints a full matrix rather than an abbreviated matrix\n",
    "\n",
    "# define data and destination paths\n",
    "dest_path = \"/Users/Alliot/Documents/CLA-Project/Data/all-data-no-na/neural-network/\"\n",
    "data_path_hourly = \"/Users/Alliot/Documents/CLA-Project/Data/hourly-data-sets/\"\n",
    "# data_path = \"/Users/Alliot/Documents/CLA-Project/Data/data-sets/\"\n",
    "# data_set_hourly = \"hourly_data_2017\"\n",
    "# data_set = \"data_2017_summer\"\n",
    "\n",
    "# # load data sets\n",
    "# X = np.load(data_path_hourly + data_set_hourly + \"_edit.npy\")\n",
    "# y = np.load(data_path_hourly + data_set_hourly + \"_labels.npy\")\n",
    "# X = X.astype(float)\n",
    "# y = y.astype(int)\n",
    "\n",
    "X_2015 = np.load(data_path_hourly + 'hourly_X_2015.npy')\n",
    "X_2016 = np.load(data_path_hourly + 'hourly_X_2016.npy')\n",
    "X_2017 = np.load(data_path_hourly + 'hourly_X_2017.npy')\n",
    "X_2018 = np.load(data_path_hourly + 'hourly_X_2018.npy')\n",
    "\n",
    "y_2015 = np.load(data_path_hourly + 'hourly_y_2015.npy')\n",
    "y_2016 = np.load(data_path_hourly + 'hourly_y_2016.npy')\n",
    "y_2017 = np.load(data_path_hourly + 'hourly_y_2017.npy')\n",
    "y_2018 = np.load(data_path_hourly + 'hourly_y_2018.npy')\n",
    "\n",
    "X = np.vstack((X_2015, X_2016, X_2017, X_2018)).astype(float)\n",
    "y = np.hstack((y_2015, y_2016, y_2017, y_2018))\n",
    "\n",
    "num_features = X.shape[1]\n",
    "\n",
    "# manipulate data set. labels are converted to 0, +1 for binary classification; samples are removed uniformly \n",
    "# from the data set so that the disproportionately large number of negative samples (no algae) does \n",
    "# not bias the model.\n",
    "\n",
    "num_alg = 0  # count the number of algae instances\n",
    "num_no_alg = 0  # count the number of no algae instances\n",
    "\n",
    "# Convert labels to binary: 0 for no algae and 1 for algae\n",
    "for i in range(0, len(y)):\n",
    "    if y[i] == 0:\n",
    "        num_no_alg += 1\n",
    "    if y[i] == 1 or y[i] == 2:\n",
    "        y[i] = 1\n",
    "        num_alg += 1\n",
    "\n",
    "# oversample the data set by randomly adding occurences of algae until the difference between the number of algae\n",
    "# samples and no algae samples equals sample_bias (defined below)\n",
    "# idx = 0\n",
    "# sample_bias = 0\n",
    "# length_y = len(y)\n",
    "# while num_alg != (num_no_alg + sample_bias):\n",
    "#     # circle through the data sets until the difference of num_no_alg and num_alg equals\n",
    "#     # the value specified by sample_bias\n",
    "#     if idx == (length_y - 1):\n",
    "#         idx = 0\n",
    "\n",
    "#     if y[idx] == 1:\n",
    "#         if np.random.rand() >= 0.5:  # add this sample with some probability\n",
    "#             y = np.append(y, y[idx])\n",
    "#             X = np.append(X, np.reshape(X[idx, :], newshape=(1, num_features)), axis=0)\n",
    "#             num_alg += 1\n",
    "#         else:\n",
    "#             idx += 1\n",
    "#     else:\n",
    "#         idx += 1"
   ]
  },
  {
   "cell_type": "code",
   "execution_count": 4,
   "metadata": {},
   "outputs": [],
   "source": [
    "# Shuffle the data\n",
    "shuff_idx = np.arange(X.shape[0])\n",
    "np.random.shuffle(shuff_idx)\n",
    "\n",
    "X = X[shuff_idx, :]\n",
    "y = y[shuff_idx]"
   ]
  },
  {
   "cell_type": "code",
   "execution_count": 5,
   "metadata": {},
   "outputs": [],
   "source": [
    "# Read in data for plotting ROC and PR Curves\n",
    "\n",
    "# k-NN and Logistic Regression\n",
    "X_train_curve = np.load(dest_path + \"X_train_curve.npy\")\n",
    "X_test_curve = np.load(dest_path + \"X_test_curve.npy\")\n",
    "y_train_curve = np.load(dest_path + \"y_train_curve.npy\")\n",
    "y_test_curve = np.load(dest_path + \"y_test_curve.npy\")\n",
    "\n",
    "# Neural Network\n",
    "train_loader_curve = torch.load(dest_path + \"train_loader_curve.pt\")\n",
    "test_loader_curve = torch.load(dest_path + \"test_loader_curve.pt\")"
   ]
  },
  {
   "cell_type": "code",
   "execution_count": 19,
   "metadata": {},
   "outputs": [],
   "source": [
    "# determine weight vector for the each class; used in defining some of the models\n",
    "num_pos = y.tolist().count(0)\n",
    "weight_pos = 1 / num_pos\n",
    "num_neg = y.tolist().count(1)\n",
    "weight_neg = 1 / num_neg\n",
    "weight = {\n",
    "    0 : weight_pos,\n",
    "    1 : weight_neg\n",
    "}"
   ]
  },
  {
   "cell_type": "markdown",
   "metadata": {},
   "source": [
    "## Define Models"
   ]
  },
  {
   "cell_type": "markdown",
   "metadata": {},
   "source": [
    "### SVMs"
   ]
  },
  {
   "cell_type": "code",
   "execution_count": 20,
   "metadata": {},
   "outputs": [],
   "source": [
    "linear_svc = svm.LinearSVC(\n",
    "    # penalty=\"l2\",\n",
    "    # loss=\"hinge\",\n",
    "    dual=False,\n",
    "    tol=0.0001,\n",
    "    C=1,\n",
    "    fit_intercept=True,\n",
    "    intercept_scaling=1,\n",
    "    verbose=False,\n",
    "    max_iter=1000\n",
    ")"
   ]
  },
  {
   "cell_type": "code",
   "execution_count": 21,
   "metadata": {},
   "outputs": [],
   "source": [
    "rbf_svc = svm.SVC(\n",
    "    C=1000,\n",
    "    kernel=\"rbf\",\n",
    "    gamma=\"auto\",\n",
    "    probability=False,\n",
    "    shrinking=True,\n",
    "    tol=0.0001,\n",
    "    verbose=False,\n",
    "    max_iter=-1,\n",
    ")"
   ]
  },
  {
   "cell_type": "code",
   "execution_count": 22,
   "metadata": {},
   "outputs": [],
   "source": [
    "poly_svc = svm.SVC(\n",
    "    C=1,\n",
    "    kernel=\"poly\",\n",
    "    degree=5,\n",
    "    gamma=\"auto\",\n",
    "    coef0=1,\n",
    "    probability=False,\n",
    "    shrinking=True,\n",
    "    tol=0.0001,\n",
    "    verbose=False,\n",
    "    max_iter=-1,\n",
    ")"
   ]
  },
  {
   "cell_type": "markdown",
   "metadata": {},
   "source": [
    "### Logistic Regression"
   ]
  },
  {
   "cell_type": "code",
   "execution_count": 23,
   "metadata": {},
   "outputs": [],
   "source": [
    "logistic = LogisticRegression(\n",
    "#     penalty=\"l2\",\n",
    "    dual=False,\n",
    "    tol=0.0001,\n",
    "    C=1,\n",
    "    fit_intercept=True,\n",
    "    intercept_scaling=1,\n",
    "    class_weight=weight,\n",
    "    random_state=None,\n",
    "    solver=\"liblinear\",\n",
    "    max_iter=1000,\n",
    "    verbose=False,\n",
    "    warm_start=False\n",
    ")"
   ]
  },
  {
   "cell_type": "markdown",
   "metadata": {},
   "source": [
    "### Least Squares"
   ]
  },
  {
   "cell_type": "code",
   "execution_count": 24,
   "metadata": {},
   "outputs": [],
   "source": [
    "# X_LS = np.concatenate((X, np.ones(shape=(X.shape[0], 1))), axis=1)   # column of ones for offset\n",
    "# lamb = 0   # L2 regularization"
   ]
  },
  {
   "cell_type": "markdown",
   "metadata": {},
   "source": [
    "### K-Nearest Neighbors"
   ]
  },
  {
   "cell_type": "code",
   "execution_count": 25,
   "metadata": {},
   "outputs": [],
   "source": [
    "knn = KNeighborsClassifier(\n",
    "    n_neighbors=k,\n",
    "    weights=\"uniform\",\n",
    "    algorithm=\"brute\",\n",
    "    p=2,\n",
    "    metric=\"minkowski\",\n",
    "    n_jobs=None\n",
    ")"
   ]
  },
  {
   "cell_type": "markdown",
   "metadata": {},
   "source": [
    "### Neural Network"
   ]
  },
  {
   "cell_type": "code",
   "execution_count": 26,
   "metadata": {},
   "outputs": [],
   "source": [
    "class CLANet(nn.Module):\n",
    "    def __init__(self, input_size, hidden_size, output_size):\n",
    "        super(CLANet, self).__init__()\n",
    "        self.fc1 = nn.Linear(input_size, hidden_size)\n",
    "        self.relu1 = nn.ReLU()\n",
    "        self.fc2 = nn.Linear(hidden_size, hidden_size)\n",
    "        self.tanh2 = nn.Tanh()\n",
    "        self.fc3 = nn.Linear(hidden_size, hidden_size)\n",
    "        self.relu3 = nn.ReLU()\n",
    "        self.fc4 = nn.Linear(hidden_size, hidden_size)\n",
    "        self.tanh4 = nn.Tanh()\n",
    "        self.fc5 = nn.Linear(hidden_size, hidden_size)\n",
    "        self.relu5 = nn.ReLU()\n",
    "        self.fc6 = nn.Linear(hidden_size, output_size)\n",
    "        self.sig1 = nn.Sigmoid()\n",
    "        \n",
    "    def forward(self, x):\n",
    "        out = self.fc1(x)\n",
    "        out = self.relu1(out)\n",
    "        out = self.fc2(out)\n",
    "        out = self.tanh2(out)\n",
    "        out = self.fc3(out)\n",
    "        out = self.relu3(out)\n",
    "        out = self.fc4(out)\n",
    "        out = self.tanh4(out)\n",
    "        out = self.fc5(out)\n",
    "        out = self.relu5(out)\n",
    "        out = self.fc6(out)\n",
    "        out = self.sig1(out)\n",
    "        return out"
   ]
  },
  {
   "cell_type": "code",
   "execution_count": 27,
   "metadata": {},
   "outputs": [],
   "source": [
    "model = CLANet(input_size, hidden_size, output_size)\n",
    "model.load_state_dict(torch.load(dest_path + \"torch_model_4_6_19_lr=0.001_dict.pt\"))\n",
    "model.double()     # cast model parameters to double\n",
    "model.eval();"
   ]
  },
  {
   "cell_type": "markdown",
   "metadata": {},
   "source": [
    "## Run Models"
   ]
  },
  {
   "cell_type": "code",
   "execution_count": 28,
   "metadata": {},
   "outputs": [
    {
     "name": "stdout",
     "output_type": "stream",
     "text": [
      "Fold #:  1 2 3 4 5 6 7 8 9 10 "
     ]
    }
   ],
   "source": [
    "# Perform 10-fold CV on all models\n",
    "skf = model_selection.StratifiedKFold(n_splits=num_splits, shuffle=False)\n",
    "\n",
    "linear_svc_acc = [0] * num_subsets\n",
    "rbf_svc_acc = [0] * num_subsets\n",
    "poly_svc_acc = [0] * num_subsets\n",
    "logistic_acc = [0] * num_subsets\n",
    "# LS_acc = [0] * num_subsets\n",
    "knn_acc = [0] * num_subsets\n",
    "\n",
    "fold = 1\n",
    "print(\"Fold #: \", end=\" \")\n",
    "\n",
    "for train_idx, test_idx in skf.split(X, y):\n",
    "    print(str(fold), end=\" \")\n",
    "    X_train, X_test = X[train_idx, :], X[test_idx, :]\n",
    "    y_train, y_test = y[train_idx], y[test_idx]\n",
    "    \n",
    "#     length_y_train = len(y_train)\n",
    "#     num_no_alg = 0\n",
    "#     num_alg = 0\n",
    "    \n",
    "    # count number of labels\n",
    "#     for i in range(0, length_y_train):\n",
    "#         if y_train[i] == 0:\n",
    "#             num_no_alg += 1\n",
    "#         if y_train[i] == 1:\n",
    "#             num_alg += 1\n",
    "    \n",
    "    # oversample the data set by randomly adding occurences of algae until the difference between the number of algae\n",
    "    # samples and no algae samples equals sample_bias (defined in hyperparameters section)\n",
    "#     idx = 0\n",
    "#     while num_alg != (num_no_alg + sample_bias):\n",
    "#         # circle through the data sets until the difference of num_no_alg and num_alg equals\n",
    "#         # the value specified by sample_bias\n",
    "#         if idx == (length_y_train-1):\n",
    "#             idx = 0\n",
    "\n",
    "#         if y_train[idx] == 1:\n",
    "#             if np.random.rand() >= 0.5:  # add this sample with some probability\n",
    "#                 y_train = np.append(y_train, y_train[idx])\n",
    "#                 X_train = np.append(X_train, np.reshape(X_train[idx, :], newshape=(1, num_features)), axis=0)\n",
    "#                 num_alg += 1\n",
    "#             else:\n",
    "#                 idx += 1\n",
    "#         else:\n",
    "#             idx += 1\n",
    "            \n",
    "#     # randomly shuffle training set\n",
    "#     train_perm = np.random.permutation(np.arange(X_train.shape[0]))\n",
    "#     X_train = X_train[train_perm, :]\n",
    "#     y_train = y_train[train_perm]\n",
    "    \n",
    "#     X_LS_train, X_LS_test = X_LS[train_idx, :], X_LS[test_idx, :]   # for least squares\n",
    "    \n",
    "    X_train = preprocessing.scale(X_train, axis=1, with_mean=True, with_std=True)\n",
    "    X_test = preprocessing.scale(X_test, axis=1, with_mean=True, with_std=True)\n",
    "    \n",
    "#     X_LS_train = preprocessing.scale(X_LS_train, axis=1, with_mean=True, with_std=True)\n",
    "#     X_LS_test = preprocessing.scale(X_LS_test, axis=1, with_mean=True, with_std=True)\n",
    "    \n",
    "    for i in range(num_subsets):\n",
    "        sub_idx = int(np.floor(((i+1) * X_train.shape[0])) / float(num_subsets))\n",
    "        X_train_sub = X_train[:sub_idx, :]\n",
    "#         X_LS_train_sub = X_LS_train[:sub_idx, :]\n",
    "        \n",
    "        y_train_sub = y_train[:sub_idx]\n",
    "        \n",
    "        # SVMs\n",
    "#         linear_svc.fit(X_train_sub, y_train_sub)\n",
    "#         linear_svc_pred = linear_svc.predict(X_test)\n",
    "\n",
    "#         rbf_svc.fit(X_train_sub, y_train_sub)\n",
    "#         rbf_svc_pred = rbf_svc.predict(X_test)\n",
    "\n",
    "#         poly_svc.fit(X_train_sub, y_train_sub)\n",
    "#         poly_svc_pred = poly_svc.predict(X_test)\n",
    "\n",
    "        # logistic\n",
    "        logistic.fit(X_train_sub, y_train_sub)\n",
    "        logistic_pred = logistic.predict(X_test)\n",
    "        logistic_prob = logistic.predict_proba(X_test)[:, 1]\n",
    "\n",
    "        # least squares\n",
    "#         a = np.transpose(X_LS_train_sub)\n",
    "#         b = np.matmul(a, X_LS_train_sub)\n",
    "#         f = np.multiply(lamb, np.identity(b.shape[0]))\n",
    "#         e = b + f\n",
    "#         c = np.linalg.inv(e)\n",
    "#         d = np.matmul(c, a)\n",
    "#         w = np.matmul(d, y_train_sub)   # weight vector\n",
    "\n",
    "#         LS_pred = np.matmul(X_LS_test, w)\n",
    "#         LS_pred = np.sign(LS_pred)\n",
    "\n",
    "        # knn\n",
    "#         knn.fit(X_train_sub, y_train_sub)\n",
    "#         knn_pred = knn.predict(X_test)\n",
    "#         knn_prob = knn.predict_proba(X_test)[:, 1]\n",
    "\n",
    "        # accuracy calculation\n",
    "#         linear_svc_acc[i] += (np.sum(linear_svc_pred == y_test) / len(y_test))\n",
    "#         rbf_svc_acc[i] += (np.sum(rbf_svc_pred == y_test) / len(y_test))\n",
    "#         poly_svc_acc[i] += (np.sum(poly_svc_pred == y_test) / len(y_test))\n",
    "        logistic_acc[i] += (np.sum(logistic_pred == y_test) / len(y_test))\n",
    "#         LS_acc[i] += 1 - (np.sum(LS_pred == y_test) / len(y_test))\n",
    "#         knn_acc[i] += (np.sum(knn_pred == y_test) / len(y_test))\n",
    "    \n",
    "    fold += 1\n",
    "        \n",
    "# linear_svc_acc[:] = [float(i) / float(num_splits) for i in linear_svc_acc]\n",
    "# rbf_svc_acc[:] = [float(i) / float(num_splits) for i in rbf_svc_acc]\n",
    "# poly_svc_acc[:] = [float(i) / float(num_splits) for i in poly_svc_acc]\n",
    "logistic_acc[:] = [float(i) / float(num_splits) for i in logistic_acc]\n",
    "# LS_acc[:] = [float(i) / float(num_splits) for i in LS_acc]\n",
    "# knn_acc[:] = [float(i) / float(num_splits) for i in knn_acc]"
   ]
  },
  {
   "cell_type": "markdown",
   "metadata": {},
   "source": [
    "## Plot Results"
   ]
  },
  {
   "cell_type": "code",
   "execution_count": 29,
   "metadata": {},
   "outputs": [
    {
     "data": {
      "image/png": "[encoded data removed]",
      "text/plain": [
       "<Figure size 864x576 with 1 Axes>"
      ]
     },
     "metadata": {},
     "output_type": "display_data"
    }
   ],
   "source": [
    "folds = [i+1 for i in range(num_splits)]\n",
    "\n",
    "plt.figure(figsize=(12, 8))\n",
    "plt.plot(folds, knn_acc, color=\"m\", label=str(k) + \"-Nearest Neighbors\")\n",
    "plt.plot(folds, rbf_svc_acc, color=\"c\", label=\"RBF SVM\")\n",
    "plt.plot(folds, linear_svc_acc, color=\"g\", label=\"Linear SVM\")\n",
    "plt.plot(folds, poly_svc_acc, color=\"#ed870b\", label=\"Polynomial SVM\")\n",
    "plt.plot(folds, logistic_acc, color=\"b\", label=\"Logistic Regression\")\n",
    "# plt.plot(folds, LS_acc, color=\"r\", label=\"Least Squares\")\n",
    "plt.xlabel(\"Training Set Size\", fontsize=20)\n",
    "plt.xticks(np.arange(num_subsets)+1, (\"10%\", \"20%\", \"30%\", \"40%\", \"50%\", \"60%\", \"70%\", \"80%\", \"90%\", \"100%\"), fontsize=16)\n",
    "plt.yticks(fontsize=16)\n",
    "plt.ylabel(\"Test Set Accuracy\", fontsize=20)\n",
    "plt.title(\"Test Set Accuracy vs Training Set Size Using 10-Fold CV\", fontsize=28)\n",
    "plt.axis([1, num_splits, 0.5, 1])\n",
    "plt.legend(loc=\"upper left\", prop={\"size\": 16})\n",
    "plt.tight_layout()\n",
    "plt.grid(True)\n",
    "plt.savefig(\"learning-curve.png\", dpi=300)"
   ]
  },
  {
   "cell_type": "markdown",
   "metadata": {},
   "source": [
    "## ROC and PR Curves"
   ]
  },
  {
   "cell_type": "code",
   "execution_count": 17,
   "metadata": {},
   "outputs": [],
   "source": [
    "# Make predictions on allocated data sets\n",
    "knn.fit(X_train_curve, y_train_curve)\n",
    "knn_prob = knn.predict_proba(X_test_curve)[:, 1]\n",
    "\n",
    "logistic.fit(X_train_curve, y_train_curve)\n",
    "logistic_prob = logistic.predict_proba(X_test_curve)[:, 1]\n",
    "\n",
    "for i, (samples, labels) in enumerate(test_loader_curve):\n",
    "    samples = Variable(samples)\n",
    "    labels = Variable(labels)\n",
    "    conf = model(samples)    # confidence that a certain instance is predicted correctly\n",
    "    conf = torch.flatten(conf)\n",
    "    labels = labels.type(torch.DoubleTensor)\n",
    "    \n",
    "# convert to numpy arrays\n",
    "conf = conf.detach().numpy()\n",
    "labels = labels.numpy()"
   ]
  },
  {
   "cell_type": "code",
   "execution_count": 18,
   "metadata": {},
   "outputs": [
    {
     "data": {
      "image/png": "[encoded data removed]",
      "text/plain": [
       "<Figure size 864x576 with 1 Axes>"
      ]
     },
     "metadata": {},
     "output_type": "display_data"
    }
   ],
   "source": [
    "net_fpr, net_tpr, _ = roc_curve(labels, conf, pos_label=1)\n",
    "knn_fpr, knn_tpr, _ = roc_curve(y_test_curve, knn_prob, pos_label=1)\n",
    "logistic_fpr, logistic_tpr, _ = roc_curve(y_test_curve, logistic_prob, pos_label=1)\n",
    "\n",
    "plt.figure(figsize=(12, 8))\n",
    "plt.plot(net_fpr, net_tpr, color=\"y\", label=\"Neural Network\")\n",
    "plt.plot(knn_fpr, knn_tpr, color=\"m\", label=str(k) + \"-Nearest Neighbors\")\n",
    "plt.plot(logistic_fpr, logistic_tpr, \"b\", label=\"Logistic Regression\")\n",
    "plt.plot(0.1*np.arange(12), 0.1*np.arange(12), color=\"k\", linestyle=\"dashed\", label=\"Random Classifier\")\n",
    "plt.xlabel(\"False Postive Rate (FPR)\", fontsize=20)\n",
    "plt.ylabel(\"True Positive Rate (TPR)\", fontsize=20)\n",
    "plt.xticks(fontsize=16)\n",
    "plt.yticks(fontsize=16)\n",
    "plt.axis([0, 1, 0, 1.001])\n",
    "plt.title(\"ROC Curve\", fontsize=28)\n",
    "plt.legend(loc=\"lower right\", prop={\"size\": 16})\n",
    "plt.tight_layout()\n",
    "plt.grid(True)\n",
    "plt.savefig(\"roc-curve.png\", dpi=300)"
   ]
  },
  {
   "cell_type": "code",
   "execution_count": null,
   "metadata": {},
   "outputs": [],
   "source": [
    "print(\"AUC Scores:\")\n",
    "print(\"\\tNeural Networks:\", roc_auc_score(labels, conf))\n",
    "print(\"\\tk-NN:\", roc_auc_score(y_test_curve, knn_prob))\n",
    "print(\"\\tLogistic Regression:\", roc_auc_score(y_test_curve, logistic_prob))"
   ]
  },
  {
   "cell_type": "markdown",
   "metadata": {},
   "source": [
    "## PR Curve"
   ]
  },
  {
   "cell_type": "code",
   "execution_count": null,
   "metadata": {},
   "outputs": [],
   "source": [
    "net_prec, net_recall, _ = precision_recall_curve(labels, conf, pos_label=1)\n",
    "knn_prec, knn_recall, _ = precision_recall_curve(y_test_curve, knn_prob, pos_label=1)\n",
    "logistic_prec, logistic_recall, _ = precision_recall_curve(y_test_curve, logistic_prob, pos_label=1)\n",
    "\n",
    "plt.figure(figsize=(12, 8))\n",
    "plt.plot(net_prec, net_recall, color=\"y\", label=\"Neural Network\")\n",
    "plt.plot(knn_prec, knn_recall, color=\"m\", label=str(k) + \"-Nearest Neighbors\")\n",
    "plt.plot(logistic_prec, logistic_recall, \"b\", label=\"Logistic Regression\")\n",
    "plt.xlabel(\"Precision\", fontsize=20)\n",
    "plt.ylabel(\"Recall\", fontsize=20)\n",
    "plt.xticks(fontsize=16)\n",
    "plt.yticks(fontsize=16)\n",
    "plt.axis([0, 1, 0, 1.001])\n",
    "plt.title(\"PR Curve\", fontsize=28)\n",
    "plt.legend(loc=\"lower left\", prop={\"size\": 16})\n",
    "plt.tight_layout()\n",
    "plt.grid(True)\n",
    "plt.savefig(\"pr-curve.png\", dpi=300)"
   ]
  },
  {
   "cell_type": "markdown",
   "metadata": {},
   "source": [
    "## Make Predictions on Past Years"
   ]
  },
  {
   "cell_type": "markdown",
   "metadata": {},
   "source": [
    "### Read in Data\u0010"
   ]
  },
  {
   "cell_type": "code",
   "execution_count": null,
   "metadata": {},
   "outputs": [],
   "source": [
    "np.set_printoptions(threshold=np.inf)  # prints a full matrix rather than an abbreviated matrix\n",
    "\n",
    "# define data and destination paths\n",
    "dest_path = \"/Users/Alliot/Documents/CLA-Project/Data/all-data-no-na/neural-network/\"\n",
    "data_path_hourly = \"/Users/Alliot/Documents/CLA-Project/Data/hourly-data-sets/\"\n",
    "data_path = \"/Users/Alliot/Documents/CLA-Project/Data/data-sets/\"\n",
    "data_set_hourly = \"hourly_data_2016\"\n",
    "data_set = \"data_2016_summer\"\n",
    "\n",
    "# load data sets\n",
    "X = np.load(data_path + data_set + \".npy\")\n",
    "y = np.load(data_path + data_set + \"_labels.npy\")\n",
    "X = X.astype(float)\n",
    "y = y.astype(int)\n",
    "\n",
    "num_features = X.shape[1]\n",
    "\n",
    "# manipulate data set. labels are converted to 0, +1 for binary classification; samples are removed uniformly \n",
    "# from the data set so that the disproportionately large number of negative samples (no algae) does \n",
    "# not bias the model.\n",
    "\n",
    "num_alg = 0  # count the number of algae instances\n",
    "num_no_alg = 0  # count the number of no algae instances\n",
    "\n",
    "# Convert labels to binary: 0 for no algae and 1 for algae\n",
    "for i in range(0, len(y)):\n",
    "    if y[i] == 0:\n",
    "        num_no_alg += 1\n",
    "    if y[i] == 1 or y[i] == 2:\n",
    "        y[i] = 1\n",
    "        num_alg += 1\n",
    "\n",
    "# oversample the data set by randomly adding occurences of algae until the difference between the number of algae\n",
    "# samples and no algae samples equals sample_bias (defined below)\n",
    "idx = 0\n",
    "sample_bias = 0\n",
    "length_y = len(y)\n",
    "while num_alg != (num_no_alg + sample_bias):\n",
    "    # circle through the data sets until the difference of num_no_alg and num_alg equals\n",
    "    # the value specified by sample_bias\n",
    "    if idx == (length_y - 1):\n",
    "        idx = 0\n",
    "\n",
    "    if y[idx] == 1:\n",
    "        if np.random.rand() >= 0.5:  # add this sample with some probability\n",
    "            y = np.append(y, y[idx])\n",
    "            X = np.append(X, np.reshape(X[idx, :], newshape=(1, num_features)), axis=0)\n",
    "            num_alg += 1\n",
    "        else:\n",
    "            idx += 1\n",
    "    else:\n",
    "        idx += 1\n",
    "        \n",
    "# Shuffle the data\n",
    "shuff_idx = np.arange(X.shape[0])\n",
    "np.random.shuffle(shuff_idx)\n",
    "\n",
    "X = X[shuff_idx, :]\n",
    "y = y[shuff_idx]"
   ]
  },
  {
   "cell_type": "markdown",
   "metadata": {},
   "source": [
    "### k-NN"
   ]
  },
  {
   "cell_type": "code",
   "execution_count": null,
   "metadata": {},
   "outputs": [],
   "source": [
    "knn_pred = knn.predict(X)\n",
    "print(\"Accuracy:\", (np.sum(knn_pred == y) / len(y)))"
   ]
  },
  {
   "cell_type": "code",
   "execution_count": null,
   "metadata": {},
   "outputs": [],
   "source": []
  }
 ],
 "metadata": {
  "kernelspec": {
   "display_name": "Python 3",
   "language": "python",
   "name": "python3"
  },
  "language_info": {
   "codemirror_mode": {
    "name": "ipython",
    "version": 3
   },
   "file_extension": ".py",
   "mimetype": "text/x-python",
   "name": "python",
   "nbconvert_exporter": "python",
   "pygments_lexer": "ipython3",
   "version": "3.6.8"
  }
 },
 "nbformat": 4,
 "nbformat_minor": 2
}
